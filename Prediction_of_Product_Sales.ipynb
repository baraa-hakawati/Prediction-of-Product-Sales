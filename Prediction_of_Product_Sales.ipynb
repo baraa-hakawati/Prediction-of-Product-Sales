{
  "nbformat": 4,
  "nbformat_minor": 0,
  "metadata": {
    "colab": {
      "provenance": [],
      "authorship_tag": "ABX9TyM+UVidoKnZIH3YdeyDtMmo",
      "include_colab_link": true
    },
    "kernelspec": {
      "name": "python3",
      "display_name": "Python 3"
    },
    "language_info": {
      "name": "python"
    }
  },
  "cells": [
    {
      "cell_type": "markdown",
      "metadata": {
        "id": "view-in-github",
        "colab_type": "text"
      },
      "source": [
        "<a href=\"https://colab.research.google.com/github/baraa-hakawati/Prediction-of-Product-Sales/blob/main/Prediction_of_Product_Sales.ipynb\" target=\"_parent\"><img src=\"https://colab.research.google.com/assets/colab-badge.svg\" alt=\"Open In Colab\"/></a>"
      ]
    },
    {
      "cell_type": "markdown",
      "source": [
        "# Prediction of Product Sales\n",
        "- Author: Baraa A. Hakawati"
      ],
      "metadata": {
        "id": "vN8s-tVnMLNJ"
      }
    },
    {
      "cell_type": "markdown",
      "source": [
        "## Project Overview"
      ],
      "metadata": {
        "id": "vL3fotJuN7nF"
      }
    },
    {
      "cell_type": "markdown",
      "source": [
        "\n",
        "## Load and Inspect Data"
      ],
      "metadata": {
        "id": "2SQcl1CtNe-Q"
      }
    },
    {
      "cell_type": "code",
      "source": [],
      "metadata": {
        "id": "UA6xuePAOZQO"
      },
      "execution_count": null,
      "outputs": []
    },
    {
      "cell_type": "markdown",
      "source": [
        "## Clean Data"
      ],
      "metadata": {
        "id": "eRkZ1YemNuq4"
      }
    },
    {
      "cell_type": "code",
      "source": [],
      "metadata": {
        "id": "RfNWg15nObAd"
      },
      "execution_count": null,
      "outputs": []
    },
    {
      "cell_type": "markdown",
      "source": [
        "## Exploratory Data Analysis"
      ],
      "metadata": {
        "id": "Cq6Y8Bk9NuuW"
      }
    },
    {
      "cell_type": "code",
      "source": [],
      "metadata": {
        "id": "_OXpPNr5OcJN"
      },
      "execution_count": null,
      "outputs": []
    },
    {
      "cell_type": "markdown",
      "source": [
        "## Feature Inspection"
      ],
      "metadata": {
        "id": "RsQ776voN3Ge"
      }
    },
    {
      "cell_type": "code",
      "source": [],
      "metadata": {
        "id": "yLVY3oZbOd39"
      },
      "execution_count": null,
      "outputs": []
    }
  ]
}